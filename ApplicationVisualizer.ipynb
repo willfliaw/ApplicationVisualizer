{
 "cells": [
  {
   "cell_type": "markdown",
   "metadata": {},
   "source": [
    "# File structure"
   ]
  },
  {
   "cell_type": "markdown",
   "metadata": {},
   "source": [
    "This project assumes the following initial file structure:\n",
    "\n",
    "```\n",
    ".\\ApplicationVisualizer                        \n",
    "|   .gitignore                                 \n",
    "|   ApplicationVisualizer.ipynb                \n",
    "|   environment.yml                            \n",
    "|   README.md                                  \n",
    "|                                              \n",
    "+---data                                       \n",
    "|       example.json                           \n",
    "|                                              \n",
    "\\---plots                                      \n",
    "        example_gantt_chart.png                \n",
    "        example_sankey_diagram.png             \n",
    "        example_source_analysis_by_status.png  \n",
    "        example_status_analysis_by_source.png  \n",
    "                                               \n",
    "```"
   ]
  },
  {
   "cell_type": "markdown",
   "metadata": {},
   "source": [
    "# Modules"
   ]
  },
  {
   "cell_type": "markdown",
   "metadata": {},
   "source": [
    "## Imports"
   ]
  },
  {
   "cell_type": "code",
   "execution_count": null,
   "metadata": {},
   "outputs": [],
   "source": [
    "import importlib.metadata\n",
    "import json\n",
    "import os\n",
    "import types\n",
    "from collections import defaultdict\n",
    "\n",
    "import matplotlib.dates as mdates\n",
    "import matplotlib.pyplot as plt\n",
    "import pandas as pd\n",
    "import plotly.graph_objects as go\n",
    "from matplotlib.colors import CSS4_COLORS\n",
    "from matplotlib.dates import date2num"
   ]
  },
  {
   "cell_type": "markdown",
   "metadata": {},
   "source": [
    "## Versions"
   ]
  },
  {
   "cell_type": "markdown",
   "metadata": {},
   "source": [
    "The current module versions in use are as follows:"
   ]
  },
  {
   "cell_type": "code",
   "execution_count": null,
   "metadata": {},
   "outputs": [
    {
     "data": {
      "text/html": [
       "<div>\n",
       "<style scoped>\n",
       "    .dataframe tbody tr th:only-of-type {\n",
       "        vertical-align: middle;\n",
       "    }\n",
       "\n",
       "    .dataframe tbody tr th {\n",
       "        vertical-align: top;\n",
       "    }\n",
       "\n",
       "    .dataframe thead th {\n",
       "        text-align: right;\n",
       "    }\n",
       "</style>\n",
       "<table border=\"1\" class=\"dataframe\">\n",
       "  <thead>\n",
       "    <tr style=\"text-align: right;\">\n",
       "      <th></th>\n",
       "      <th>Module</th>\n",
       "      <th>Version</th>\n",
       "    </tr>\n",
       "  </thead>\n",
       "  <tbody>\n",
       "    <tr>\n",
       "      <th>0</th>\n",
       "      <td>plotly</td>\n",
       "      <td>5.24.1</td>\n",
       "    </tr>\n",
       "    <tr>\n",
       "      <th>1</th>\n",
       "      <td>matplotlib</td>\n",
       "      <td>3.9.2</td>\n",
       "    </tr>\n",
       "    <tr>\n",
       "      <th>2</th>\n",
       "      <td>pandas</td>\n",
       "      <td>2.2.3</td>\n",
       "    </tr>\n",
       "  </tbody>\n",
       "</table>\n",
       "</div>"
      ],
      "text/plain": [
       "       Module Version\n",
       "0      plotly  5.24.1\n",
       "1  matplotlib   3.9.2\n",
       "2      pandas   2.2.3"
      ]
     },
     "execution_count": 2,
     "metadata": {},
     "output_type": "execute_result"
    }
   ],
   "source": [
    "def get_imports():\n",
    "    for name, val in globals().items():\n",
    "        if isinstance(val, types.ModuleType):\n",
    "            name = val.__name__.split(\".\")[0]\n",
    "\n",
    "        elif isinstance(val, type):\n",
    "            name = val.__module__.split(\".\")[0]\n",
    "\n",
    "        poorly_named_packages = {\"PIL\": \"pillow\", \"sklearn\": \"scikit-learn\"}\n",
    "        if name in poorly_named_packages.keys():\n",
    "            name = poorly_named_packages[name]\n",
    "\n",
    "        yield name\n",
    "\n",
    "\n",
    "imports = list(set(get_imports()))\n",
    "\n",
    "installed_packages = {dist.metadata[\"Name\"]: dist.version for dist in importlib.metadata.distributions()}\n",
    "\n",
    "requirements = [\n",
    "    (name, installed_packages[name])\n",
    "    for name in imports\n",
    "    if name in installed_packages and name != \"pip\"\n",
    "]\n",
    "\n",
    "\n",
    "pd.DataFrame(requirements, columns=[\"Module\", \"Version\"])"
   ]
  },
  {
   "cell_type": "markdown",
   "metadata": {},
   "source": [
    "# Global variables"
   ]
  },
  {
   "cell_type": "markdown",
   "metadata": {},
   "source": [
    "The following global variables are used throughout the entirety of the methodology section."
   ]
  },
  {
   "cell_type": "code",
   "execution_count": null,
   "metadata": {},
   "outputs": [],
   "source": [
    "APPLICATION_DATA_PATH = os.path.join(\"data\", \"applications.json\")\n",
    "PLOTS_PATH = \"plots\"\n",
    "DEFAULT_STEP_LABELS = [\n",
    "    \"Company Website\",\n",
    "    \"Email\",\n",
    "    \"Career Fair\",\n",
    "    \"LinkedIn\",\n",
    "    \"Initial Screening\",\n",
    "    \"Technical Assessment\",\n",
    "    \"First-Round Interview\",\n",
    "    \"Technical Interview\",\n",
    "    \"Second-Round Interview\",\n",
    "    \"Third-Round Interview\",\n",
    "    \"Withdrawn Application\",\n",
    "    \"No Answer\",\n",
    "    \"Rejected\",\n",
    "    \"Offer Received\",\n",
    "    \"Declined\"\n",
    "]\n",
    "\n",
    "# Sankey Diagram\n",
    "GOOD_COLOR = \"lightgreen\"\n",
    "AVERAGE_COLOR = \"orange\"\n",
    "AVERAGE_NODES = [\"Withdrawn Application\", \"No Answer\", \"Declined\"]\n",
    "BAD_COLOR = \"red\"\n",
    "BAD_NODES = [\"Rejected\"]"
   ]
  },
  {
   "cell_type": "markdown",
   "metadata": {},
   "source": [
    "# Main"
   ]
  },
  {
   "cell_type": "markdown",
   "metadata": {},
   "source": [
    "## Sankey Diagram"
   ]
  },
  {
   "cell_type": "code",
   "execution_count": null,
   "metadata": {},
   "outputs": [],
   "source": [
    "def css_color_to_rgba(color_name, alpha):\n",
    "    try:\n",
    "        hex_value = CSS4_COLORS[color_name.lower()]\n",
    "        rgb = tuple(int(hex_value[i : i + 2], 16) for i in (1, 3, 5))\n",
    "        rgba = (*rgb, alpha)\n",
    "        return f\"rgba{rgba}\"\n",
    "    except KeyError:\n",
    "        return None\n",
    "\n",
    "def create_neighbor_pairs(input_list):\n",
    "    return [(input_list[i], input_list[i + 1]) for i in range(len(input_list) - 1)]"
   ]
  },
  {
   "cell_type": "code",
   "execution_count": null,
   "metadata": {},
   "outputs": [],
   "source": [
    "def plot_sankey_diagram(\n",
    "    pad=20,\n",
    "    application_data_path=APPLICATION_DATA_PATH,\n",
    "    plots_path=None,\n",
    "    default_step_labels=DEFAULT_STEP_LABELS,\n",
    "    good_color=GOOD_COLOR,\n",
    "    average_color=AVERAGE_COLOR,\n",
    "    bad_color=BAD_COLOR,\n",
    "):\n",
    "    with open(application_data_path, \"r\") as f:\n",
    "        applications = json.load(f)\n",
    "\n",
    "    step_labels = default_step_labels\n",
    "    link_counts = defaultdict(int)\n",
    "    for application in applications:\n",
    "        for step in application[\"process\"]:\n",
    "            if step not in step_labels:\n",
    "                step_labels.append(step)\n",
    "        application[\"links\"] = [\n",
    "            (application[\"process\"][index], application[\"process\"][index + 1])\n",
    "            for index in range(len(application[\"process\"]) - 1)\n",
    "        ]\n",
    "        for link in application[\"links\"]:\n",
    "            link_counts[link] += 1\n",
    "\n",
    "    node_color_map = {\n",
    "        node: (\n",
    "            BAD_COLOR\n",
    "            if node in BAD_NODES\n",
    "            else AVERAGE_COLOR if node in AVERAGE_NODES else GOOD_COLOR\n",
    "        )\n",
    "        for node in step_labels\n",
    "    }\n",
    "\n",
    "    node = dict(\n",
    "        label=step_labels, pad=pad, thickness=15, color=list(node_color_map.values())\n",
    "    )\n",
    "\n",
    "    link_labels = list(link_counts.keys())\n",
    "    link = dict(\n",
    "        source=[step_labels.index(source_label) for [source_label, _] in link_labels],\n",
    "        target=[step_labels.index(target_label) for [_, target_label] in link_labels],\n",
    "        value=list(link_counts.values()),\n",
    "        color=[\n",
    "            css_color_to_rgba(node_color_map[target_label], alpha=0.5)\n",
    "            for [_, target_label] in link_labels\n",
    "        ],\n",
    "    )\n",
    "\n",
    "    sankey = go.Sankey(link=link, node=node, arrangement=\"snap\")\n",
    "    fig = go.Figure(data=[sankey])\n",
    "\n",
    "    fig.update_layout(\n",
    "        title_text=\"Sankey Applications\",\n",
    "        font=dict(size=12),\n",
    "        title_font=dict(size=22),\n",
    "        title_x=0.5,\n",
    "    )\n",
    "\n",
    "    if plots_path:\n",
    "        fig.write_html(os.path.join(plots_path, \"sankey_diagram.html\"))\n",
    "\n",
    "    fig.show()"
   ]
  },
  {
   "cell_type": "code",
   "execution_count": null,
   "metadata": {},
   "outputs": [
    {
     "data": {
      "application/vnd.plotly.v1+json": {
       "config": {
        "plotlyServerURL": "https://plot.ly"
       },
       "data": [
        {
         "arrangement": "snap",
         "link": {
          "color": [
           "rgba(144, 238, 144, 0.5)",
           "rgba(144, 238, 144, 0.5)",
           "rgba(144, 238, 144, 0.5)",
           "rgba(144, 238, 144, 0.5)",
           "rgba(144, 238, 144, 0.5)",
           "rgba(144, 238, 144, 0.5)",
           "rgba(144, 238, 144, 0.5)",
           "rgba(144, 238, 144, 0.5)",
           "rgba(144, 238, 144, 0.5)",
           "rgba(144, 238, 144, 0.5)",
           "rgba(255, 165, 0, 0.5)",
           "rgba(255, 0, 0, 0.5)",
           "rgba(255, 165, 0, 0.5)",
           "rgba(144, 238, 144, 0.5)",
           "rgba(144, 238, 144, 0.5)",
           "rgba(144, 238, 144, 0.5)",
           "rgba(255, 165, 0, 0.5)",
           "rgba(255, 165, 0, 0.5)",
           "rgba(255, 165, 0, 0.5)",
           "rgba(255, 0, 0, 0.5)",
           "rgba(255, 165, 0, 0.5)",
           "rgba(144, 238, 144, 0.5)",
           "rgba(255, 165, 0, 0.5)"
          ],
          "source": [
           1,
           6,
           0,
           4,
           5,
           6,
           7,
           8,
           9,
           0,
           0,
           0,
           4,
           2,
           6,
           0,
           5,
           6,
           6,
           2,
           1,
           3,
           3
          ],
          "target": [
           6,
           13,
           4,
           5,
           6,
           7,
           8,
           9,
           13,
           6,
           11,
           12,
           11,
           6,
           8,
           5,
           11,
           11,
           10,
           12,
           11,
           6,
           11
          ],
          "value": [
           5,
           1,
           4,
           1,
           1,
           1,
           1,
           1,
           1,
           3,
           21,
           18,
           3,
           2,
           1,
           2,
           1,
           2,
           1,
           1,
           1,
           1,
           1
          ]
         },
         "node": {
          "color": [
           "lightgreen",
           "lightgreen",
           "lightgreen",
           "lightgreen",
           "lightgreen",
           "lightgreen",
           "lightgreen",
           "lightgreen",
           "lightgreen",
           "lightgreen",
           "orange",
           "orange",
           "red",
           "lightgreen",
           "orange"
          ],
          "label": [
           "Company Website",
           "Email",
           "Career Fair",
           "LinkedIn",
           "Initial Screening",
           "Technical Assessment",
           "First-Round Interview",
           "Technical Interview",
           "Second-Round Interview",
           "Third-Round Interview",
           "Withdrawn Application",
           "No Answer",
           "Rejected",
           "Offer Received",
           "Declined"
          ],
          "pad": 40,
          "thickness": 15
         },
         "type": "sankey"
        }
       ],
       "layout": {
        "font": {
         "size": 12
        },
        "template": {
         "data": {
          "bar": [
           {
            "error_x": {
             "color": "#2a3f5f"
            },
            "error_y": {
             "color": "#2a3f5f"
            },
            "marker": {
             "line": {
              "color": "#E5ECF6",
              "width": 0.5
             },
             "pattern": {
              "fillmode": "overlay",
              "size": 10,
              "solidity": 0.2
             }
            },
            "type": "bar"
           }
          ],
          "barpolar": [
           {
            "marker": {
             "line": {
              "color": "#E5ECF6",
              "width": 0.5
             },
             "pattern": {
              "fillmode": "overlay",
              "size": 10,
              "solidity": 0.2
             }
            },
            "type": "barpolar"
           }
          ],
          "carpet": [
           {
            "aaxis": {
             "endlinecolor": "#2a3f5f",
             "gridcolor": "white",
             "linecolor": "white",
             "minorgridcolor": "white",
             "startlinecolor": "#2a3f5f"
            },
            "baxis": {
             "endlinecolor": "#2a3f5f",
             "gridcolor": "white",
             "linecolor": "white",
             "minorgridcolor": "white",
             "startlinecolor": "#2a3f5f"
            },
            "type": "carpet"
           }
          ],
          "choropleth": [
           {
            "colorbar": {
             "outlinewidth": 0,
             "ticks": ""
            },
            "type": "choropleth"
           }
          ],
          "contour": [
           {
            "colorbar": {
             "outlinewidth": 0,
             "ticks": ""
            },
            "colorscale": [
             [
              0,
              "#0d0887"
             ],
             [
              0.1111111111111111,
              "#46039f"
             ],
             [
              0.2222222222222222,
              "#7201a8"
             ],
             [
              0.3333333333333333,
              "#9c179e"
             ],
             [
              0.4444444444444444,
              "#bd3786"
             ],
             [
              0.5555555555555556,
              "#d8576b"
             ],
             [
              0.6666666666666666,
              "#ed7953"
             ],
             [
              0.7777777777777778,
              "#fb9f3a"
             ],
             [
              0.8888888888888888,
              "#fdca26"
             ],
             [
              1,
              "#f0f921"
             ]
            ],
            "type": "contour"
           }
          ],
          "contourcarpet": [
           {
            "colorbar": {
             "outlinewidth": 0,
             "ticks": ""
            },
            "type": "contourcarpet"
           }
          ],
          "heatmap": [
           {
            "colorbar": {
             "outlinewidth": 0,
             "ticks": ""
            },
            "colorscale": [
             [
              0,
              "#0d0887"
             ],
             [
              0.1111111111111111,
              "#46039f"
             ],
             [
              0.2222222222222222,
              "#7201a8"
             ],
             [
              0.3333333333333333,
              "#9c179e"
             ],
             [
              0.4444444444444444,
              "#bd3786"
             ],
             [
              0.5555555555555556,
              "#d8576b"
             ],
             [
              0.6666666666666666,
              "#ed7953"
             ],
             [
              0.7777777777777778,
              "#fb9f3a"
             ],
             [
              0.8888888888888888,
              "#fdca26"
             ],
             [
              1,
              "#f0f921"
             ]
            ],
            "type": "heatmap"
           }
          ],
          "heatmapgl": [
           {
            "colorbar": {
             "outlinewidth": 0,
             "ticks": ""
            },
            "colorscale": [
             [
              0,
              "#0d0887"
             ],
             [
              0.1111111111111111,
              "#46039f"
             ],
             [
              0.2222222222222222,
              "#7201a8"
             ],
             [
              0.3333333333333333,
              "#9c179e"
             ],
             [
              0.4444444444444444,
              "#bd3786"
             ],
             [
              0.5555555555555556,
              "#d8576b"
             ],
             [
              0.6666666666666666,
              "#ed7953"
             ],
             [
              0.7777777777777778,
              "#fb9f3a"
             ],
             [
              0.8888888888888888,
              "#fdca26"
             ],
             [
              1,
              "#f0f921"
             ]
            ],
            "type": "heatmapgl"
           }
          ],
          "histogram": [
           {
            "marker": {
             "pattern": {
              "fillmode": "overlay",
              "size": 10,
              "solidity": 0.2
             }
            },
            "type": "histogram"
           }
          ],
          "histogram2d": [
           {
            "colorbar": {
             "outlinewidth": 0,
             "ticks": ""
            },
            "colorscale": [
             [
              0,
              "#0d0887"
             ],
             [
              0.1111111111111111,
              "#46039f"
             ],
             [
              0.2222222222222222,
              "#7201a8"
             ],
             [
              0.3333333333333333,
              "#9c179e"
             ],
             [
              0.4444444444444444,
              "#bd3786"
             ],
             [
              0.5555555555555556,
              "#d8576b"
             ],
             [
              0.6666666666666666,
              "#ed7953"
             ],
             [
              0.7777777777777778,
              "#fb9f3a"
             ],
             [
              0.8888888888888888,
              "#fdca26"
             ],
             [
              1,
              "#f0f921"
             ]
            ],
            "type": "histogram2d"
           }
          ],
          "histogram2dcontour": [
           {
            "colorbar": {
             "outlinewidth": 0,
             "ticks": ""
            },
            "colorscale": [
             [
              0,
              "#0d0887"
             ],
             [
              0.1111111111111111,
              "#46039f"
             ],
             [
              0.2222222222222222,
              "#7201a8"
             ],
             [
              0.3333333333333333,
              "#9c179e"
             ],
             [
              0.4444444444444444,
              "#bd3786"
             ],
             [
              0.5555555555555556,
              "#d8576b"
             ],
             [
              0.6666666666666666,
              "#ed7953"
             ],
             [
              0.7777777777777778,
              "#fb9f3a"
             ],
             [
              0.8888888888888888,
              "#fdca26"
             ],
             [
              1,
              "#f0f921"
             ]
            ],
            "type": "histogram2dcontour"
           }
          ],
          "mesh3d": [
           {
            "colorbar": {
             "outlinewidth": 0,
             "ticks": ""
            },
            "type": "mesh3d"
           }
          ],
          "parcoords": [
           {
            "line": {
             "colorbar": {
              "outlinewidth": 0,
              "ticks": ""
             }
            },
            "type": "parcoords"
           }
          ],
          "pie": [
           {
            "automargin": true,
            "type": "pie"
           }
          ],
          "scatter": [
           {
            "fillpattern": {
             "fillmode": "overlay",
             "size": 10,
             "solidity": 0.2
            },
            "type": "scatter"
           }
          ],
          "scatter3d": [
           {
            "line": {
             "colorbar": {
              "outlinewidth": 0,
              "ticks": ""
             }
            },
            "marker": {
             "colorbar": {
              "outlinewidth": 0,
              "ticks": ""
             }
            },
            "type": "scatter3d"
           }
          ],
          "scattercarpet": [
           {
            "marker": {
             "colorbar": {
              "outlinewidth": 0,
              "ticks": ""
             }
            },
            "type": "scattercarpet"
           }
          ],
          "scattergeo": [
           {
            "marker": {
             "colorbar": {
              "outlinewidth": 0,
              "ticks": ""
             }
            },
            "type": "scattergeo"
           }
          ],
          "scattergl": [
           {
            "marker": {
             "colorbar": {
              "outlinewidth": 0,
              "ticks": ""
             }
            },
            "type": "scattergl"
           }
          ],
          "scattermapbox": [
           {
            "marker": {
             "colorbar": {
              "outlinewidth": 0,
              "ticks": ""
             }
            },
            "type": "scattermapbox"
           }
          ],
          "scatterpolar": [
           {
            "marker": {
             "colorbar": {
              "outlinewidth": 0,
              "ticks": ""
             }
            },
            "type": "scatterpolar"
           }
          ],
          "scatterpolargl": [
           {
            "marker": {
             "colorbar": {
              "outlinewidth": 0,
              "ticks": ""
             }
            },
            "type": "scatterpolargl"
           }
          ],
          "scatterternary": [
           {
            "marker": {
             "colorbar": {
              "outlinewidth": 0,
              "ticks": ""
             }
            },
            "type": "scatterternary"
           }
          ],
          "surface": [
           {
            "colorbar": {
             "outlinewidth": 0,
             "ticks": ""
            },
            "colorscale": [
             [
              0,
              "#0d0887"
             ],
             [
              0.1111111111111111,
              "#46039f"
             ],
             [
              0.2222222222222222,
              "#7201a8"
             ],
             [
              0.3333333333333333,
              "#9c179e"
             ],
             [
              0.4444444444444444,
              "#bd3786"
             ],
             [
              0.5555555555555556,
              "#d8576b"
             ],
             [
              0.6666666666666666,
              "#ed7953"
             ],
             [
              0.7777777777777778,
              "#fb9f3a"
             ],
             [
              0.8888888888888888,
              "#fdca26"
             ],
             [
              1,
              "#f0f921"
             ]
            ],
            "type": "surface"
           }
          ],
          "table": [
           {
            "cells": {
             "fill": {
              "color": "#EBF0F8"
             },
             "line": {
              "color": "white"
             }
            },
            "header": {
             "fill": {
              "color": "#C8D4E3"
             },
             "line": {
              "color": "white"
             }
            },
            "type": "table"
           }
          ]
         },
         "layout": {
          "annotationdefaults": {
           "arrowcolor": "#2a3f5f",
           "arrowhead": 0,
           "arrowwidth": 1
          },
          "autotypenumbers": "strict",
          "coloraxis": {
           "colorbar": {
            "outlinewidth": 0,
            "ticks": ""
           }
          },
          "colorscale": {
           "diverging": [
            [
             0,
             "#8e0152"
            ],
            [
             0.1,
             "#c51b7d"
            ],
            [
             0.2,
             "#de77ae"
            ],
            [
             0.3,
             "#f1b6da"
            ],
            [
             0.4,
             "#fde0ef"
            ],
            [
             0.5,
             "#f7f7f7"
            ],
            [
             0.6,
             "#e6f5d0"
            ],
            [
             0.7,
             "#b8e186"
            ],
            [
             0.8,
             "#7fbc41"
            ],
            [
             0.9,
             "#4d9221"
            ],
            [
             1,
             "#276419"
            ]
           ],
           "sequential": [
            [
             0,
             "#0d0887"
            ],
            [
             0.1111111111111111,
             "#46039f"
            ],
            [
             0.2222222222222222,
             "#7201a8"
            ],
            [
             0.3333333333333333,
             "#9c179e"
            ],
            [
             0.4444444444444444,
             "#bd3786"
            ],
            [
             0.5555555555555556,
             "#d8576b"
            ],
            [
             0.6666666666666666,
             "#ed7953"
            ],
            [
             0.7777777777777778,
             "#fb9f3a"
            ],
            [
             0.8888888888888888,
             "#fdca26"
            ],
            [
             1,
             "#f0f921"
            ]
           ],
           "sequentialminus": [
            [
             0,
             "#0d0887"
            ],
            [
             0.1111111111111111,
             "#46039f"
            ],
            [
             0.2222222222222222,
             "#7201a8"
            ],
            [
             0.3333333333333333,
             "#9c179e"
            ],
            [
             0.4444444444444444,
             "#bd3786"
            ],
            [
             0.5555555555555556,
             "#d8576b"
            ],
            [
             0.6666666666666666,
             "#ed7953"
            ],
            [
             0.7777777777777778,
             "#fb9f3a"
            ],
            [
             0.8888888888888888,
             "#fdca26"
            ],
            [
             1,
             "#f0f921"
            ]
           ]
          },
          "colorway": [
           "#636efa",
           "#EF553B",
           "#00cc96",
           "#ab63fa",
           "#FFA15A",
           "#19d3f3",
           "#FF6692",
           "#B6E880",
           "#FF97FF",
           "#FECB52"
          ],
          "font": {
           "color": "#2a3f5f"
          },
          "geo": {
           "bgcolor": "white",
           "lakecolor": "white",
           "landcolor": "#E5ECF6",
           "showlakes": true,
           "showland": true,
           "subunitcolor": "white"
          },
          "hoverlabel": {
           "align": "left"
          },
          "hovermode": "closest",
          "mapbox": {
           "style": "light"
          },
          "paper_bgcolor": "white",
          "plot_bgcolor": "#E5ECF6",
          "polar": {
           "angularaxis": {
            "gridcolor": "white",
            "linecolor": "white",
            "ticks": ""
           },
           "bgcolor": "#E5ECF6",
           "radialaxis": {
            "gridcolor": "white",
            "linecolor": "white",
            "ticks": ""
           }
          },
          "scene": {
           "xaxis": {
            "backgroundcolor": "#E5ECF6",
            "gridcolor": "white",
            "gridwidth": 2,
            "linecolor": "white",
            "showbackground": true,
            "ticks": "",
            "zerolinecolor": "white"
           },
           "yaxis": {
            "backgroundcolor": "#E5ECF6",
            "gridcolor": "white",
            "gridwidth": 2,
            "linecolor": "white",
            "showbackground": true,
            "ticks": "",
            "zerolinecolor": "white"
           },
           "zaxis": {
            "backgroundcolor": "#E5ECF6",
            "gridcolor": "white",
            "gridwidth": 2,
            "linecolor": "white",
            "showbackground": true,
            "ticks": "",
            "zerolinecolor": "white"
           }
          },
          "shapedefaults": {
           "line": {
            "color": "#2a3f5f"
           }
          },
          "ternary": {
           "aaxis": {
            "gridcolor": "white",
            "linecolor": "white",
            "ticks": ""
           },
           "baxis": {
            "gridcolor": "white",
            "linecolor": "white",
            "ticks": ""
           },
           "bgcolor": "#E5ECF6",
           "caxis": {
            "gridcolor": "white",
            "linecolor": "white",
            "ticks": ""
           }
          },
          "title": {
           "x": 0.05
          },
          "xaxis": {
           "automargin": true,
           "gridcolor": "white",
           "linecolor": "white",
           "ticks": "",
           "title": {
            "standoff": 15
           },
           "zerolinecolor": "white",
           "zerolinewidth": 2
          },
          "yaxis": {
           "automargin": true,
           "gridcolor": "white",
           "linecolor": "white",
           "ticks": "",
           "title": {
            "standoff": 15
           },
           "zerolinecolor": "white",
           "zerolinewidth": 2
          }
         }
        },
        "title": {
         "font": {
          "size": 22
         },
         "text": "Sankey Applications",
         "x": 0.5
        }
       }
      }
     },
     "metadata": {},
     "output_type": "display_data"
    }
   ],
   "source": [
    "plot_sankey_diagram(\n",
    "    pad=40, plots_path=PLOTS_PATH\n",
    ")"
   ]
  },
  {
   "cell_type": "markdown",
   "metadata": {},
   "source": [
    "## Gantt Chart"
   ]
  },
  {
   "cell_type": "code",
   "execution_count": null,
   "metadata": {},
   "outputs": [],
   "source": [
    "def plot_gantt(\n",
    "    application_data_path=APPLICATION_DATA_PATH,\n",
    "    plots_path=None,\n",
    "    alphabetical=False,\n",
    "    group_by_company=True,\n",
    "    max_length=50,\n",
    "    figsize=(12, 8),\n",
    "):\n",
    "    applications = pd.read_json(application_data_path)\n",
    "    applications[\"updates\"] = applications[\"updates\"].apply(\n",
    "        lambda x: list(pd.to_datetime(x, format=\"%d/%m/%Y\"))\n",
    "    )\n",
    "    applications[\"update_nums\"] = applications[\"updates\"].apply(date2num)\n",
    "\n",
    "    if group_by_company:\n",
    "        grouping_column = \"company\"\n",
    "    else:\n",
    "        applications[\"identifier\"] = (\n",
    "            applications[\"company\"] + \" - \" + applications[\"position\"]\n",
    "        ).str.slice(0, max_length)\n",
    "        grouping_column = \"identifier\"\n",
    "\n",
    "    applications_exploded = applications.explode(\"update_nums\")\n",
    "    summarized_data = (\n",
    "        applications_exploded.groupby(grouping_column)\n",
    "        .agg(\n",
    "            update_nums=(\"update_nums\", lambda x: sorted(x.unique())),\n",
    "            count=(\"update_nums\", lambda x: x.value_counts().to_dict()),\n",
    "        )\n",
    "        .reset_index()\n",
    "    )\n",
    "\n",
    "    if alphabetical:\n",
    "        applications = applications.sort_values(by=grouping_column).reset_index(drop=True)\n",
    "        identifiers = list(applications[grouping_column].unique())\n",
    "    else:\n",
    "        if group_by_company:\n",
    "            summarized_data = summarized_data.sort_values(by=\"update_nums\")\n",
    "            identifiers = list(summarized_data[grouping_column])\n",
    "        else:\n",
    "            applications = applications.sort_values(by=\"updates\")\n",
    "            identifiers = list(applications[grouping_column])\n",
    "\n",
    "    fig, ax = plt.subplots(figsize=figsize, dpi=80)\n",
    "\n",
    "    colormap = plt.get_cmap(\"tab20\", len(identifiers))\n",
    "    for index, application in applications.iterrows():\n",
    "        sizes = [\n",
    "            summarized_data[\n",
    "                summarized_data[grouping_column] == application[grouping_column]\n",
    "            ][\"count\"]\n",
    "            .item()\n",
    "            .get(update_num, 1)\n",
    "            * 36\n",
    "            for update_num in application[\"update_nums\"]\n",
    "        ]\n",
    "        y = [identifiers.index(application[grouping_column])] * len(\n",
    "            application[\"update_nums\"]\n",
    "        )\n",
    "        ax.scatter(\n",
    "            application[\"update_nums\"],\n",
    "            y,\n",
    "            marker=\"o\",\n",
    "            s=sizes,\n",
    "            color=colormap(identifiers.index(application[grouping_column])),\n",
    "            label=application[grouping_column],\n",
    "        )\n",
    "        ax.plot(\n",
    "            application[\"update_nums\"],\n",
    "            y,\n",
    "            marker=\"o\",\n",
    "            color=colormap(identifiers.index(application[grouping_column])),\n",
    "            label=application[grouping_column],\n",
    "        )\n",
    "\n",
    "    ax.xaxis.set_major_formatter(mdates.DateFormatter(\"%d/%b\"))\n",
    "    ax.xaxis.set_major_locator(mdates.DayLocator(interval=7))\n",
    "\n",
    "    plt.title(\"Gantt Chart of Application Updates\", fontsize=22)\n",
    "    plt.xlabel(\"Dates\", fontsize=14)\n",
    "    plt.xticks(fontsize=12, rotation=0, horizontalalignment=\"center\", alpha=0.7)\n",
    "    plt.ylabel(\"Positions\", fontsize=14)\n",
    "    plt.yticks(range(len(identifiers)))\n",
    "    ax.set_yticklabels(identifiers, fontsize=12, alpha=0.7)\n",
    "    plt.grid(axis=\"both\", alpha=0.5)\n",
    "\n",
    "    plt.tight_layout()\n",
    "\n",
    "    if plots_path:\n",
    "        fig.savefig(os.path.join(plots_path, \"gantt_chart.png\"))\n",
    "    plt.show()"
   ]
  },
  {
   "cell_type": "code",
   "execution_count": null,
   "metadata": {},
   "outputs": [
    {
     "data": {
      "image/png": "[encoded data removed]",
      "text/plain": [
       "<Figure size 960x640 with 1 Axes>"
      ]
     },
     "metadata": {},
     "output_type": "display_data"
    }
   ],
   "source": [
    "plot_gantt(plots_path=PLOTS_PATH)"
   ]
  },
  {
   "cell_type": "markdown",
   "metadata": {},
   "source": [
    "## Bar Chart"
   ]
  },
  {
   "cell_type": "markdown",
   "metadata": {},
   "source": [
    "### Source Effectiveness"
   ]
  },
  {
   "cell_type": "code",
   "execution_count": 9,
   "metadata": {},
   "outputs": [],
   "source": [
    "def plot_source_effectiveness(\n",
    "    application_data_path=APPLICATION_DATA_PATH,\n",
    "    plots_path=None,\n",
    "    good_color=GOOD_COLOR,\n",
    "    average_color=AVERAGE_COLOR,\n",
    "    bad_color=BAD_COLOR,\n",
    "    figsize=(10, 6)\n",
    "):\n",
    "    applications = pd.read_json(application_data_path)\n",
    "\n",
    "    status_counts = (\n",
    "        applications[\"process\"]\n",
    "        .apply(\n",
    "            lambda x: {\n",
    "                \"source\": x[0] if len(x) > 0 else \"Unknown\",\n",
    "                \"status\": (\n",
    "                    \"Rejected\"\n",
    "                    if \"Rejected\" in x\n",
    "                    else \"No Answer\" if \"No Answer\" in x else \"Other\"\n",
    "                ),\n",
    "            }\n",
    "        )\n",
    "        .apply(pd.Series)\n",
    "        .groupby([\"source\", \"status\"])\n",
    "        .size()\n",
    "        .unstack(fill_value=0)\n",
    "    )\n",
    "\n",
    "    status_counts[\"Total\"] = status_counts.sum(axis=1)\n",
    "    status_counts = status_counts.sort_values(by=\"Total\", ascending=False).drop(\n",
    "        columns=[\"Total\"]\n",
    "    )\n",
    "    status_counts = status_counts[[\"Rejected\", \"No Answer\", \"Other\"]]\n",
    "\n",
    "    # Plot 1: Status analysis by source\n",
    "    fig, ax = plt.subplots(figsize=figsize, dpi=80)\n",
    "\n",
    "    status_counts.plot(\n",
    "        ax=ax,\n",
    "        kind=\"bar\",\n",
    "        stacked=True,\n",
    "        color={\"Other\": good_color, \"Rejected\": bad_color, \"No Answer\": average_color},\n",
    "    )\n",
    "\n",
    "    plt.title(\"Application Status Analysis by Source\", fontsize=22)\n",
    "    plt.xlabel(\"Source\", fontsize=14)\n",
    "    plt.ylabel(\"Count\", fontsize=14)\n",
    "    plt.xticks(fontsize=12, rotation=0, horizontalalignment=\"center\", alpha=0.7)\n",
    "    plt.yticks(fontsize=12, alpha=0.7)\n",
    "    plt.legend(title=\"Status\", loc=\"upper right\")\n",
    "    plt.grid(axis=\"y\", alpha=0.5)\n",
    "    plt.tight_layout()\n",
    "    if plots_path:\n",
    "        fig.savefig(os.path.join(plots_path, \"status_analysis_by_source.png\"))\n",
    "    plt.show()\n",
    "\n",
    "    status_by_source = status_counts.T\n",
    "    status_by_source[\"Total\"] = status_by_source.sum(axis=1)\n",
    "    status_by_source = status_by_source.sort_values(by=\"Total\", ascending=False).drop(\n",
    "        columns=[\"Total\"]\n",
    "    )\n",
    "\n",
    "    # Plot 2: Source analysis by status\n",
    "    fig, ax = plt.subplots(figsize=figsize, dpi=80)\n",
    "\n",
    "    status_by_source.plot(kind=\"bar\", stacked=True, ax=ax)\n",
    "\n",
    "    plt.title(\"Application Source Analysis by Status\", fontsize=22)\n",
    "    plt.xlabel(\"Status\", fontsize=14)\n",
    "    plt.ylabel(\"Count\", fontsize=14)\n",
    "    plt.xticks(fontsize=12, rotation=0, horizontalalignment=\"center\", alpha=0.7)\n",
    "    plt.yticks(fontsize=12, alpha=0.7)\n",
    "    plt.legend(title=\"Source\", loc=\"upper right\")\n",
    "    plt.grid(axis=\"y\", alpha=0.5)\n",
    "    plt.tight_layout()\n",
    "    if plots_path:\n",
    "        fig.savefig(os.path.join(plots_path, \"source_analysis_by_status.png\"))\n",
    "    plt.show()"
   ]
  },
  {
   "cell_type": "code",
   "execution_count": null,
   "metadata": {},
   "outputs": [
    {
     "data": {
      "image/png": "[encoded data removed]",
      "text/plain": [
       "<Figure size 800x480 with 1 Axes>"
      ]
     },
     "metadata": {},
     "output_type": "display_data"
    },
    {
     "data": {
      "image/png": "[encoded data removed]",
      "text/plain": [
       "<Figure size 800x480 with 1 Axes>"
      ]
     },
     "metadata": {},
     "output_type": "display_data"
    }
   ],
   "source": [
    "plot_source_effectiveness(plots_path=PLOTS_PATH)"
   ]
  }
 ],
 "metadata": {
  "kernelspec": {
   "display_name": "appviz",
   "language": "python",
   "name": "python3"
  },
  "language_info": {
   "codemirror_mode": {
    "name": "ipython",
    "version": 3
   },
   "file_extension": ".py",
   "mimetype": "text/x-python",
   "name": "python",
   "nbconvert_exporter": "python",
   "pygments_lexer": "ipython3",
   "version": "3.13.0"
  }
 },
 "nbformat": 4,
 "nbformat_minor": 2
}
