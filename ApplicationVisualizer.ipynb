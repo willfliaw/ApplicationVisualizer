{
 "cells": [
  {
   "cell_type": "markdown",
   "metadata": {},
   "source": [
    "# File structure"
   ]
  },
  {
   "cell_type": "markdown",
   "metadata": {},
   "source": [
    "This project assumes the following initial file structure:\n",
    "\n",
    "```\n",
    ".\\main                       \n",
    "|   applicationsPlots.ipynb  \n",
    "|   applicationsData.json    \n",
    "|   environment.yml          \n",
    "|                            \n",
    "\\---images                   \n",
    "    ...                      \n",
    "```"
   ]
  },
  {
   "cell_type": "markdown",
   "metadata": {},
   "source": [
    "# Modules"
   ]
  },
  {
   "cell_type": "markdown",
   "metadata": {},
   "source": [
    "## Imports"
   ]
  },
  {
   "cell_type": "code",
   "execution_count": null,
   "metadata": {},
   "outputs": [],
   "source": [
    "import json\n",
    "import os\n",
    "import types\n",
    "from collections import defaultdict\n",
    "\n",
    "import numpy as np\n",
    "import pandas as pd\n",
    "import pkg_resources\n",
    "import plotly.graph_objects as go\n",
    "from matplotlib.colors import CSS4_COLORS"
   ]
  },
  {
   "cell_type": "markdown",
   "metadata": {},
   "source": [
    "## Versions"
   ]
  },
  {
   "cell_type": "markdown",
   "metadata": {},
   "source": [
    "The current module versions in use are as follows:"
   ]
  },
  {
   "cell_type": "code",
   "execution_count": null,
   "metadata": {},
   "outputs": [],
   "source": [
    "def get_imports():\n",
    "    for name, val in globals().items():\n",
    "        if isinstance(val, types.ModuleType):\n",
    "            name = val.__name__.split(\".\")[0]\n",
    "\n",
    "        elif isinstance(val, type):\n",
    "            name = val.__module__.split(\".\")[0]\n",
    "\n",
    "        poorly_named_packages = {\"PIL\": \"pillow\", \"sklearn\": \"scikit-learn\"}\n",
    "        if name in poorly_named_packages.keys():\n",
    "            name = poorly_named_packages[name]\n",
    "\n",
    "        yield name\n",
    "\n",
    "\n",
    "imports = list(set(get_imports()))\n",
    "\n",
    "requirements = []\n",
    "for m in pkg_resources.working_set:\n",
    "    if m.project_name in imports and m.project_name != \"pip\":\n",
    "        requirements.append((m.project_name, m.version))\n",
    "\n",
    "pd.DataFrame(requirements, columns=[\"Module\", \"Version\"])"
   ]
  },
  {
   "cell_type": "markdown",
   "metadata": {},
   "source": [
    "# Global variables"
   ]
  },
  {
   "cell_type": "markdown",
   "metadata": {},
   "source": [
    "The following global variables are used throughout the entirety of the methodology section."
   ]
  },
  {
   "cell_type": "code",
   "execution_count": null,
   "metadata": {},
   "outputs": [],
   "source": [
    "APLICATION_DATA_PATH = os.path.join(\"data\", \"applications.json\")"
   ]
  },
  {
   "cell_type": "markdown",
   "metadata": {},
   "source": [
    "# Main"
   ]
  },
  {
   "cell_type": "code",
   "execution_count": null,
   "metadata": {},
   "outputs": [],
   "source": [
    "def css_color_to_rgba(color_name, alpha):\n",
    "    try:\n",
    "        hex_value = CSS4_COLORS[color_name.lower()]\n",
    "        rgb = tuple(int(hex_value[i : i + 2], 16) for i in (1, 3, 5))\n",
    "        rgba = (*rgb, alpha)\n",
    "        return f\"rgba{rgba}\"\n",
    "    except KeyError:\n",
    "        return None"
   ]
  },
  {
   "cell_type": "code",
   "execution_count": null,
   "metadata": {},
   "outputs": [],
   "source": [
    "def create_neighbor_pairs(input_list):\n",
    "    return [(input_list[i], input_list[i + 1]) for i in range(len(input_list) - 1)]"
   ]
  },
  {
   "cell_type": "code",
   "execution_count": null,
   "metadata": {},
   "outputs": [],
   "source": [
    "with open(APLICATION_DATA_PATH, \"r\") as file:\n",
    "    applications = json.load(file)"
   ]
  },
  {
   "cell_type": "code",
   "execution_count": null,
   "metadata": {},
   "outputs": [],
   "source": [
    "labels = set()\n",
    "links = defaultdict(int)\n",
    "\n",
    "for application in applications:\n",
    "    application[\"links\"] = [\n",
    "        (application[\"process\"][index], application[\"process\"][index + 1])\n",
    "        for index in range(len(application[\"process\"]) - 1)\n",
    "    ]\n",
    "    labels.update(application[\"process\"])\n",
    "\n",
    "    for link in application[\"links\"]:\n",
    "        links[link] += 1\n",
    "\n",
    "labels = list(labels)\n",
    "edges = np.array(list(links.keys()))\n",
    "\n",
    "source = [labels.index(sourceLabel) for sourceLabel in edges[:, 0]]\n",
    "target = [labels.index(targetLabel) for targetLabel in edges[:, 1]]\n",
    "\n",
    "nodeColors = [\n",
    "    (\n",
    "        \"lightgreen\"\n",
    "        if node not in [\"Rejected\", \"No Answer\", \"Declined\"]\n",
    "        else \"red\" if node in [\"Rejected\", \"No Answer\"] else \"yellow\"\n",
    "    )\n",
    "    for node in labels\n",
    "]\n",
    "\n",
    "linkColors = [\n",
    "    (\n",
    "        css_color_to_rgba(\"lightgreen\", 0.5)\n",
    "        if node not in [\"Rejected\", \"No Answer\", \"Declined\"]\n",
    "        else (\n",
    "            css_color_to_rgba(\"red\", 0.5)\n",
    "            if node in [\"Rejected\", \"No Answer\"]\n",
    "            else css_color_to_rgba(\"yellow\", 0.5)\n",
    "        )\n",
    "    )\n",
    "    for node in edges[:, 1]\n",
    "]\n",
    "\n",
    "value = list(links.values())"
   ]
  },
  {
   "cell_type": "code",
   "execution_count": null,
   "metadata": {},
   "outputs": [],
   "source": [
    "link = dict(source=source, target=target, value=value, color=linkColors)\n",
    "node = dict(label=labels, pad=35, thickness=10, color=nodeColors)\n",
    "data = go.Sankey(link=link, node=node)\n",
    "fig = go.Figure(data=[data])\n",
    "\n",
    "fig.show()"
   ]
  }
 ],
 "metadata": {
  "kernelspec": {
   "display_name": "ds",
   "language": "python",
   "name": "python3"
  },
  "language_info": {
   "codemirror_mode": {
    "name": "ipython",
    "version": 3
   },
   "file_extension": ".py",
   "mimetype": "text/x-python",
   "name": "python",
   "nbconvert_exporter": "python",
   "pygments_lexer": "ipython3",
   "version": "3.12.7"
  }
 },
 "nbformat": 4,
 "nbformat_minor": 2
}
